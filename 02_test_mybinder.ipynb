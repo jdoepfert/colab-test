{
 "cells": [
  {
   "cell_type": "markdown",
   "metadata": {},
   "source": [
    "# Mybinder notebook environment\n",
    "\n",
    "Pros:\n",
    "- works out of the box\n",
    "- free to use\n",
    "- environment/dependencies can be specified in e.g. a `Dockerfile`\n",
    "\n",
    "Cons:\n",
    "- changes to the notebooks are NOT persisted\n",
    "- not sure how many free slots they provide, they probably don't have access to as many resources as google\n",
    "- there's a hard threshold of 100 users per repo https://mybinder.readthedocs.io/en/latest/user-guidelines.html#maximum-concurrent-users-for-a-repository\n",
    "- they provide only 1-2GB of RAM"
   ]
  },
  {
   "cell_type": "markdown",
   "metadata": {},
   "source": [
    "# Installing stuff"
   ]
  },
  {
   "cell_type": "markdown",
   "metadata": {},
   "source": [
    "I think binder scans the `requirements.txt` file automatically. Check https://mybinder.readthedocs.io/en/latest/using.html#configuration-files"
   ]
  },
  {
   "cell_type": "markdown",
   "metadata": {},
   "source": [
    "# Do random stuff"
   ]
  },
  {
   "cell_type": "code",
   "execution_count": null,
   "metadata": {},
   "outputs": [],
   "source": [
    "# scikit and pandas are already pre-installed\n",
    "import pandas as pd\n",
    "from sklearn.datasets import california_housing\n",
    "dataset_housing = california_housing.fetch_california_housing()\n",
    "\n",
    "pd.DataFrame(dataset_housing.data, columns=dataset_housing.feature_names)"
   ]
  },
  {
   "cell_type": "code",
   "execution_count": null,
   "metadata": {},
   "outputs": [],
   "source": [
    "# plotting works\n",
    "df_test = pd.read_csv('data.csv')\n",
    "\n",
    "df_test.plot();"
   ]
  },
  {
   "cell_type": "code",
   "execution_count": null,
   "metadata": {},
   "outputs": [],
   "source": [
    "# graphviz works\n",
    "from sklearn import tree\n",
    "from sklearn.tree import DecisionTreeRegressor\n",
    "import graphviz\n",
    "\n",
    "model = DecisionTreeRegressor(max_depth=4)\n",
    "\n",
    "model.fit(dataset_housing.data, dataset_housing.target)\n",
    "\n",
    "dot_data = tree.export_graphviz(model, out_file=None, \n",
    "                         feature_names=dataset_housing.feature_names,  \n",
    "                         filled=True, rounded=True,  \n",
    "                         special_characters=True)  \n",
    "graph = graphviz.Source(dot_data)  \n",
    "graph"
   ]
  },
  {
   "cell_type": "code",
   "execution_count": null,
   "metadata": {},
   "outputs": [],
   "source": []
  }
 ],
 "metadata": {
  "kernelspec": {
   "display_name": "Python 3",
   "language": "python",
   "name": "python3"
  },
  "language_info": {
   "codemirror_mode": {
    "name": "ipython",
    "version": 3
   },
   "file_extension": ".py",
   "mimetype": "text/x-python",
   "name": "python",
   "nbconvert_exporter": "python",
   "pygments_lexer": "ipython3",
   "version": "3.6.5"
  },
  "toc": {
   "base_numbering": 1,
   "nav_menu": {},
   "number_sections": true,
   "sideBar": true,
   "skip_h1_title": false,
   "title_cell": "Table of Contents",
   "title_sidebar": "Contents",
   "toc_cell": false,
   "toc_position": {},
   "toc_section_display": true,
   "toc_window_display": false
  }
 },
 "nbformat": 4,
 "nbformat_minor": 2
}
